{
 "cells": [
  {
   "cell_type": "code",
   "execution_count": 6,
   "metadata": {
    "collapsed": true
   },
   "outputs": [],
   "source": [
    "import numpy as np\n",
    "import matplotlib.pyplot as plt\n",
    "import pandas as pd\n",
    "import math\n",
    "from scipy.stats import norm\n",
    "from sklearn.cluster import *\n",
    "%matplotlib inline"
   ]
  },
  {
   "cell_type": "code",
   "execution_count": 7,
   "metadata": {
    "collapsed": true
   },
   "outputs": [],
   "source": [
    "import time\n",
    "st = time.time()"
   ]
  },
  {
   "cell_type": "markdown",
   "metadata": {},
   "source": [
    "### Import formatted samples from .csv file"
   ]
  },
  {
   "cell_type": "code",
   "execution_count": 11,
   "metadata": {},
   "outputs": [
    {
     "data": {
      "text/html": [
       "<div>\n",
       "<style scoped>\n",
       "    .dataframe tbody tr th:only-of-type {\n",
       "        vertical-align: middle;\n",
       "    }\n",
       "\n",
       "    .dataframe tbody tr th {\n",
       "        vertical-align: top;\n",
       "    }\n",
       "\n",
       "    .dataframe thead th {\n",
       "        text-align: right;\n",
       "    }\n",
       "</style>\n",
       "<table border=\"1\" class=\"dataframe\">\n",
       "  <thead>\n",
       "    <tr style=\"text-align: right;\">\n",
       "      <th></th>\n",
       "      <th>Sample 4</th>\n",
       "      <th>Sample 5</th>\n",
       "      <th>Sample 6</th>\n",
       "      <th>Sample 7</th>\n",
       "      <th>Sample 9</th>\n",
       "    </tr>\n",
       "  </thead>\n",
       "  <tbody>\n",
       "    <tr>\n",
       "      <th>0</th>\n",
       "      <td>123.0</td>\n",
       "      <td>124.0</td>\n",
       "      <td>125.0</td>\n",
       "      <td>125.0</td>\n",
       "      <td>127.0</td>\n",
       "    </tr>\n",
       "    <tr>\n",
       "      <th>1</th>\n",
       "      <td>312.0</td>\n",
       "      <td>315.0</td>\n",
       "      <td>311.0</td>\n",
       "      <td>307.0</td>\n",
       "      <td>310.0</td>\n",
       "    </tr>\n",
       "    <tr>\n",
       "      <th>2</th>\n",
       "      <td>123.2</td>\n",
       "      <td>377.4</td>\n",
       "      <td>110.6</td>\n",
       "      <td>122.5</td>\n",
       "      <td>112.8</td>\n",
       "    </tr>\n",
       "    <tr>\n",
       "      <th>3</th>\n",
       "      <td>123.7</td>\n",
       "      <td>415.5</td>\n",
       "      <td>112.7</td>\n",
       "      <td>336.4</td>\n",
       "      <td>165.8</td>\n",
       "    </tr>\n",
       "    <tr>\n",
       "      <th>4</th>\n",
       "      <td>128.3</td>\n",
       "      <td>427.9</td>\n",
       "      <td>113.2</td>\n",
       "      <td>369.1</td>\n",
       "      <td>177.6</td>\n",
       "    </tr>\n",
       "  </tbody>\n",
       "</table>\n",
       "</div>"
      ],
      "text/plain": [
       "   Sample 4  Sample 5  Sample 6  Sample 7  Sample 9\n",
       "0     123.0     124.0     125.0     125.0     127.0\n",
       "1     312.0     315.0     311.0     307.0     310.0\n",
       "2     123.2     377.4     110.6     122.5     112.8\n",
       "3     123.7     415.5     112.7     336.4     165.8\n",
       "4     128.3     427.9     113.2     369.1     177.6"
      ]
     },
     "execution_count": 11,
     "metadata": {},
     "output_type": "execute_result"
    }
   ],
   "source": [
    "df = pd.read_csv(\"data/BlumPecha2014_formatted_data.csv\",delimiter=',')\n",
    "df.head()"
   ]
  },
  {
   "cell_type": "code",
   "execution_count": 13,
   "metadata": {},
   "outputs": [
    {
     "data": {
      "text/html": [
       "<div>\n",
       "<style scoped>\n",
       "    .dataframe tbody tr th:only-of-type {\n",
       "        vertical-align: middle;\n",
       "    }\n",
       "\n",
       "    .dataframe tbody tr th {\n",
       "        vertical-align: top;\n",
       "    }\n",
       "\n",
       "    .dataframe thead th {\n",
       "        text-align: right;\n",
       "    }\n",
       "</style>\n",
       "<table border=\"1\" class=\"dataframe\">\n",
       "  <thead>\n",
       "    <tr style=\"text-align: right;\">\n",
       "      <th></th>\n",
       "      <th>Sample 4</th>\n",
       "      <th>Sample 5</th>\n",
       "      <th>Sample 6</th>\n",
       "      <th>Sample 7</th>\n",
       "      <th>Sample 9</th>\n",
       "    </tr>\n",
       "  </thead>\n",
       "  <tbody>\n",
       "    <tr>\n",
       "      <th>0</th>\n",
       "      <td>123.0</td>\n",
       "      <td>124.0</td>\n",
       "      <td>125.0</td>\n",
       "      <td>125.0</td>\n",
       "      <td>127.0</td>\n",
       "    </tr>\n",
       "    <tr>\n",
       "      <th>1</th>\n",
       "      <td>312.0</td>\n",
       "      <td>315.0</td>\n",
       "      <td>311.0</td>\n",
       "      <td>307.0</td>\n",
       "      <td>310.0</td>\n",
       "    </tr>\n",
       "  </tbody>\n",
       "</table>\n",
       "</div>"
      ],
      "text/plain": [
       "   Sample 4  Sample 5  Sample 6  Sample 7  Sample 9\n",
       "0     123.0     124.0     125.0     125.0     127.0\n",
       "1     312.0     315.0     311.0     307.0     310.0"
      ]
     },
     "execution_count": 13,
     "metadata": {},
     "output_type": "execute_result"
    },
    {
     "data": {
      "image/png": "[encoded data removed]",
      "text/plain": [
       "<Figure size 432x288 with 1 Axes>"
      ]
     },
     "metadata": {},
     "output_type": "display_data"
    }
   ],
   "source": [
    "# plot sample locations\n",
    "fig, ax = plt.subplots()\n",
    "ax.set_xlabel('Long coordinates')\n",
    "ax.set_ylabel('Lat coordinates')\n",
    "ax.plot(df.iloc[[1]],df.iloc[[2]],'ko')\n",
    "\n",
    "df[0:2]"
   ]
  },
  {
   "cell_type": "markdown",
   "metadata": {},
   "source": [
    "### Generate KDEs for samples\n",
    "Build new dataframe of samples kde series"
   ]
  },
  {
   "cell_type": "code",
   "execution_count": 14,
   "metadata": {
    "collapsed": true
   },
   "outputs": [],
   "source": [
    "def build_KDE(ages,bw,max_age_roundup):\n",
    "    \n",
    "    ages = np.array(ages[~np.isnan(ages)]) #remove nans and convert to array\n",
    "    x_range = np.arange(0,max_age_roundup,1) #sampled every 1 spacing\n",
    "    KDE_bandwidths = [bw for i in ages] # set bandwidth for each age\n",
    "    \n",
    "    sum_pdf = x_range-x_range\n",
    "    for i in range(len(ages)):\n",
    "        sum_pdf = sum_pdf + norm.pdf(x=x_range,loc=ages[i],scale=KDE_bandwidths[i])\n",
    "        norm_sum_pdf = sum_pdf / len(ages)\n",
    "    return norm_sum_pdf\n",
    "\n",
    "\n",
    "max_age = max(df[2:].max())\n",
    "max_age_roundup = int(math.ceil(max_age/500.0))*500 # to nearest 500\n",
    "bw = 30\n",
    "KDE_df = pd.DataFrame(data=None, columns=df.columns)\n",
    "\n",
    "for col in df:\n",
    "    KDE_series = pd.Series(build_KDE(df[col][2:], bw, max_age_roundup))\n",
    "    KDE_df[col] = KDE_series\n",
    "    #print(df[col].apply(build_KDE)) for apply stuff every row"
   ]
  },
  {
   "cell_type": "code",
   "execution_count": 15,
   "metadata": {},
   "outputs": [
    {
     "data": {
      "image/png": "[encoded data removed]",
      "text/plain": [
       "<Figure size 1200x400 with 1 Axes>"
      ]
     },
     "metadata": {},
     "output_type": "display_data"
    }
   ],
   "source": [
    "fig=plt.figure(figsize=(15, 5), dpi=80)\n",
    "plt.xlim(0,max_age_roundup)\n",
    "plt.ylim(0,0.01)\n",
    "\n",
    "for col in KDE_df:\n",
    "    plt.plot(KDE_df[col])"
   ]
  },
  {
   "cell_type": "markdown",
   "metadata": {},
   "source": [
    "### Build dissimilarity matrix"
   ]
  },
  {
   "cell_type": "code",
   "execution_count": 16,
   "metadata": {
    "collapsed": true
   },
   "outputs": [],
   "source": [
    "def calc_stat(x,y,stat):\n",
    "    x = np.array(x)\n",
    "    y = np.array(y)\n",
    "    \n",
    "    if stat=='likeness':\n",
    "        M = abs(x-y)\n",
    "        s = sum(M)/2\n",
    "        return s\n",
    "    \n",
    "    if stat=='similarity':\n",
    "        if np.array_equal(x,y):\n",
    "            s = 0\n",
    "        else:\n",
    "            S = np.sqrt(x*y)\n",
    "            s = 1-sum(S)\n",
    "        return s\n",
    "        \n",
    "    if stat=='R2':\n",
    "        xmean = np.mean(x)\n",
    "        ymean = np.mean(y)\n",
    "        xcov = np.zeros(len(x))\n",
    "        ycov = np.zeros(len(y))\n",
    "        \n",
    "        for i in range(len(x)):\n",
    "            xcov[i] = x[i] - xmean\n",
    "        for i in range(len(x)):\n",
    "            ycov[i] = y[i] - ymean\n",
    "        numerator = sum(xcov*ycov)\n",
    "        \n",
    "        sumxcov2 = sum(xcov*xcov)\n",
    "        sumycov2 = sum(ycov*ycov)\n",
    "        mult2 = sumxcov2*sumycov2\n",
    "        denominator = np.sqrt(mult2)\n",
    "\n",
    "        r = numerator/denominator\n",
    "        r2 = r*r\n",
    "        s = 1-r2\n",
    "        return s"
   ]
  },
  {
   "cell_type": "code",
   "execution_count": 17,
   "metadata": {
    "collapsed": true
   },
   "outputs": [],
   "source": [
    "n = len(KDE_df.columns)\n",
    "diss = np.zeros((n,n))\n",
    "stat = 'R2'\n",
    "\n",
    "for i in range(n):\n",
    "    for j in range(n):\n",
    "        diss[i,j] = calc_stat(KDE_df.iloc[:,i], KDE_df.iloc[:,j],stat)"
   ]
  },
  {
   "cell_type": "code",
   "execution_count": 18,
   "metadata": {},
   "outputs": [
    {
     "data": {
      "text/plain": [
       "array([[0.        , 0.08736374, 0.9856398 , 0.88197303, 0.92295928],\n",
       "       [0.08736374, 0.        , 0.99944111, 0.84639608, 0.89686754],\n",
       "       [0.9856398 , 0.99944111, 0.        , 0.99985855, 0.99261556],\n",
       "       [0.88197303, 0.84639608, 0.99985855, 0.        , 0.12916509],\n",
       "       [0.92295928, 0.89686754, 0.99261556, 0.12916509, 0.        ]])"
      ]
     },
     "execution_count": 18,
     "metadata": {},
     "output_type": "execute_result"
    }
   ],
   "source": [
    "diss"
   ]
  },
  {
   "cell_type": "markdown",
   "metadata": {},
   "source": [
    "### Agglomerative clustering"
   ]
  },
  {
   "cell_type": "code",
   "execution_count": 19,
   "metadata": {
    "collapsed": true
   },
   "outputs": [],
   "source": [
    "no_clusters = 2\n",
    "model = AgglomerativeClustering(linkage='complete',\n",
    "                               affinity='precomputed',\n",
    "                               compute_full_tree=False,\n",
    "                               n_clusters=no_clusters)"
   ]
  },
  {
   "cell_type": "code",
   "execution_count": 20,
   "metadata": {
    "collapsed": true
   },
   "outputs": [],
   "source": [
    "m = model.fit(diss)"
   ]
  },
  {
   "cell_type": "code",
   "execution_count": 21,
   "metadata": {},
   "outputs": [
    {
     "data": {
      "text/plain": [
       "array([0, 0, 1, 0, 0], dtype=int64)"
      ]
     },
     "execution_count": 21,
     "metadata": {},
     "output_type": "execute_result"
    }
   ],
   "source": [
    "m.labels_"
   ]
  },
  {
   "cell_type": "markdown",
   "metadata": {},
   "source": [
    "### Plot examples"
   ]
  },
  {
   "cell_type": "raw",
   "metadata": {},
   "source": [
    "KDEs coloured by labels"
   ]
  },
  {
   "cell_type": "raw",
   "metadata": {},
   "source": [
    "Spatial points coloured by labels"
   ]
  },
  {
   "cell_type": "raw",
   "metadata": {},
   "source": [
    "Future options: Dendrograms?\n",
    "Now built into Plotly\n",
    "    https://plot.ly/python/dendrogram/"
   ]
  },
  {
   "cell_type": "code",
   "execution_count": null,
   "metadata": {},
   "outputs": [],
   "source": []
  }
 ],
 "metadata": {
  "kernelspec": {
   "display_name": "Python 3",
   "language": "python",
   "name": "python3"
  },
  "language_info": {
   "codemirror_mode": {
    "name": "ipython",
    "version": 3
   },
   "file_extension": ".py",
   "mimetype": "text/x-python",
   "name": "python",
   "nbconvert_exporter": "python",
   "pygments_lexer": "ipython3",
   "version": "3.6.5"
  }
 },
 "nbformat": 4,
 "nbformat_minor": 2
}
